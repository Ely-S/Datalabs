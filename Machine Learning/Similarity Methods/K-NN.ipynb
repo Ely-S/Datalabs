{
 "metadata": {
  "name": ""
 },
 "nbformat": 3,
 "nbformat_minor": 0,
 "worksheets": [
  {
   "cells": [
    {
     "cell_type": "markdown",
     "metadata": {},
     "source": [
      "#Problem 1\n",
      "\n",
      "1. With the following dataset show the decision regions ofr the 1-NN and 3-NN rules\n",
      "2. Then do the same with the following non-linear transforms\n",
      "\n",
      "\n",
      "    z1 = sqrt(x1^2 + x2^2)\n",
      "    z2 = arctan(x2/x1)"
     ]
    },
    {
     "cell_type": "code",
     "collapsed": false,
     "input": [
      "from numpy import array\n",
      "\n",
      "data  = {\n",
      "    \"data\": array([[1, 0], [0, 1], [0, -1], [-1, 0], [0, 2], [0, -2], [-2, 0]]),\n",
      "    \"target\": array([-1, -1, -1, -1, 1, 1, 1])\n",
      "}"
     ],
     "language": "python",
     "metadata": {},
     "outputs": [],
     "prompt_number": 68
    },
    {
     "cell_type": "code",
     "collapsed": false,
     "input": [
      "import numpy as np\n",
      "import matplotlib.pyplot as plt\n",
      "from matplotlib.colors import ListedColormap\n",
      "from sklearn import neighbors\n",
      "%matplotlib inline"
     ],
     "language": "python",
     "metadata": {},
     "outputs": [],
     "prompt_number": 82
    },
    {
     "cell_type": "code",
     "collapsed": false,
     "input": [
      "cmap_light = ListedColormap(['#FFAAAA', '#AAFFAA', '#AAAAFF'])\n",
      "cmap_bold = ListedColormap(['#FF0000', '#00FF00', '#0000FF'])\n",
      "\n",
      "h = .02  # step size in the mesh\n",
      "\n",
      "\n",
      "for k in (1, 3):\n",
      "    clf = neighbors.KNeighborsClassifier(k)\n",
      "    \n",
      "    clf.fit(data['data'], data['target'])\n",
      "    \n",
      "    x_min, x_max = data['data'][:, 0].min() - 1, data['data'][:, 0].max() + 1\n",
      "    y_min, y_max = data['data'][:, 1].min() - 1, data['data'][:, 1].max() + 1\n",
      "    xx, yy = np.meshgrid(np.arange(x_min, x_max, h), np.arange(y_min, y_max, h))\n",
      "    Z = clf.predict(np.c_[xx.ravel(), yy.ravel()])\n",
      "    \n",
      "    Z = Z.reshape(xx.shape)\n",
      "    plt.figure()\n",
      "    plt.pcolormesh(xx, yy, Z, cmap=cmap_light)\n",
      "    \n",
      "    plt.scatter(data['data'][:, 0], data['data'][:, 1], c=data['target'], cmap=cmap_bold)\n",
      "    plt.xlim(xx.min(), xx.max())\n",
      "    plt.ylim(yy.min(), yy.max())"
     ],
     "language": "python",
     "metadata": {},
     "outputs": [
      {
       "metadata": {},
       "output_type": "display_data",
       "png": "[encoded data removed]",
       "text": [
        "<matplotlib.figure.Figure at 0x7f4ea98cb350>"
       ]
      },
      {
       "metadata": {},
       "output_type": "display_data",
       "png": "[encoded data removed]",
       "text": [
        "<matplotlib.figure.Figure at 0x7f4ea98cbd50>"
       ]
      }
     ],
     "prompt_number": 85
    },
    {
     "cell_type": "code",
     "collapsed": false,
     "input": [
      "def transform(X):\n",
      "    z = X[:]\n",
      "    z[0] = np.sqrt(np.square(X[0]) + np.square(X[1]))\n",
      "    z[1] = np.arctan(X[1]/ X[0])\n",
      "    return z\n",
      "\n",
      "for k in (1, 3):\n",
      "    \n",
      "    X = transform(data['data'])\n",
      "    \n",
      "    clf = neighbors.KNeighborsClassifier(k)\n",
      "    \n",
      "    clf.fit(X, data['target'])\n",
      "    \n",
      "    x_min, x_max = X[:, 0].min() - 1, X[:, 0].max() + 1\n",
      "    y_min, y_max = X[:, 1].min() - 1, X[:, 1].max() + 1\n",
      "    xx, yy = np.meshgrid(np.arange(x_min, x_max, h), np.arange(y_min, y_max, h))\n",
      "    Z = clf.predict(np.c_[xx.ravel(), yy.ravel()])\n",
      "    \n",
      "    Z = Z.reshape(xx.shape)\n",
      "    plt.figure()\n",
      "    plt.pcolormesh(xx, yy, Z, cmap=cmap_light)\n",
      "    \n",
      "    plt.scatter(X[:, 0], X[:, 1], c=data['target'], cmap=cmap_bold)\n",
      "    plt.xlim(xx.min(), xx.max())\n",
      "    plt.ylim(yy.min(), yy.max())\n"
     ],
     "language": "python",
     "metadata": {},
     "outputs": [
      {
       "metadata": {},
       "output_type": "display_data",
       "png": "[encoded data removed]",
       "text": [
        "<matplotlib.figure.Figure at 0x7f4eaa6a1e90>"
       ]
      },
      {
       "metadata": {},
       "output_type": "display_data",
       "png": "[encoded data removed]",
       "text": [
        "<matplotlib.figure.Figure at 0x7f4eaa6a1ad0>"
       ]
      }
     ],
     "prompt_number": 86
    },
    {
     "cell_type": "markdown",
     "metadata": {},
     "source": [
      "#Problem 2\n",
      "\n",
      "(a) Let the mean of all the -1 points be \u03bc \u22121 and the mean of all the +1 points\n",
      "be \u03bc +1 . Suppose the data set were condensed into the two prototypes\n",
      "{(\u03bc \u22121 , \u22121), (\u03bc +1 , +1)} (these points need not be data points, so they\n",
      "are called prototypes).\n",
      "\n",
      "Plot the classification regions for the 1-NN rule\n",
      "\n",
      "using the condensed data.\n",
      "\n",
      "What is the in-sample error?\n",
      "\n",
      "(b) Consider the following approach to condensing the data. At each step,\n",
      "merge the two closest points of the same class as follows:\n",
      "\n",
      "    (x, c) + (x \u2032 , c) \u2192 ( 2 1 (x + x \u2032 ), c).\n",
      "\n",
      "Again, this method of condensing produces prototypes. Continue condensing until you have two points remaining (of different classes).\n",
      "\n",
      "Plot the 1-NN rule with the condensed data. What is the in-sample error?"
     ]
    },
    {
     "cell_type": "code",
     "collapsed": false,
     "input": [
      "# from inspection of data, all negative 1s are the first 4\n",
      "upos = data['data'][4:]\n",
      "uneg = data['data'][:4]\n",
      "uneg[1]"
     ],
     "language": "python",
     "metadata": {},
     "outputs": [
      {
       "metadata": {},
       "output_type": "pyout",
       "prompt_number": 78,
       "text": [
        "array([[ 1,  1],\n",
        "       [ 0,  0],\n",
        "       [ 0, -1],\n",
        "       [-1,  0]])"
       ]
      }
     ],
     "prompt_number": 78
    },
    {
     "cell_type": "code",
     "collapsed": false,
     "input": [],
     "language": "python",
     "metadata": {},
     "outputs": [],
     "prompt_number": 76
    },
    {
     "cell_type": "code",
     "collapsed": false,
     "input": [],
     "language": "python",
     "metadata": {},
     "outputs": []
    }
   ],
   "metadata": {}
  }
 ]
}