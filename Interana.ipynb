{
 "metadata": {
  "name": ""
 },
 "nbformat": 3,
 "nbformat_minor": 0,
 "worksheets": [
  {
   "cells": [
    {
     "cell_type": "markdown",
     "metadata": {},
     "source": [
      "This is for a job application at Interana. This little quiz acompanied the application and I'm documenting my thought process for the application.\n",
      "\n",
      "#The question\n"
     ]
    },
    {
     "cell_type": "markdown",
     "metadata": {},
     "source": [
      "Please use the data from here:\n",
      "\n",
      "http://earthquake.usgs.gov/earthquakes/feed/v1.0/summary/all_month.geojson\n",
      "\n",
      "to show us the highest magnitude earthquake within the last 7 days within 100 miles of our office.\n",
      "\n",
      "Tell us how you chose your solution.\n",
      "\n",
      "Please remember that the purpose of the task is less about the answer and more about how you got there. In the field, you'll be left to your devices to use any combination of tools you like to solve this and get the data being asked. For this part of the problem, please do it in two ways:\u00a0\n",
      "\n",
      "1) Choose any combination of technologies and tools to answer the question. Please be very detailed in your thought process, selection criteria, and any pertinent steps you take to get there. There are no wrong answers! In the field it's always about \"getting it done\".\n",
      "\n",
      "2) Please repeat the exercise, but focus on using UNIX command line tools. You should be using Linux and ideally python or bash scripting to locate the records.\u00a0\n",
      "\n",
      "Once 1 and 2 are completed, discuss how you would convert the JSON data to CSV and what the best way to do that would be. Provide as much detail about the decision as possible."
     ]
    },
    {
     "cell_type": "markdown",
     "metadata": {},
     "source": [
      "# The Process\n",
      "\n",
      "Python is my go-to tool for many tasks"
     ]
    },
    {
     "cell_type": "code",
     "collapsed": false,
     "input": [
      "# Lets load the data\n",
      "import requests\n",
      "geojson = requests.get(\"http://earthquake.usgs.gov/earthquakes/feed/v1.0/summary/all_month.geojson\").content"
     ],
     "language": "python",
     "metadata": {},
     "outputs": [],
     "prompt_number": 224
    },
    {
     "cell_type": "markdown",
     "metadata": {},
     "source": [
      "hm.. looks like geojason.\n",
      "\n",
      "        pip install geojsonio"
     ]
    },
    {
     "cell_type": "code",
     "collapsed": false,
     "input": [
      "import geojsonio\n",
      "#geojsonio.embed(geojson)"
     ],
     "language": "python",
     "metadata": {},
     "outputs": [],
     "prompt_number": 225
    },
    {
     "cell_type": "markdown",
     "metadata": {},
     "source": [
      "Oh look, it seems like there is to much data to easily visualize. The above is commeneted out for crashing my browser. This is going to be fun :)"
     ]
    },
    {
     "cell_type": "markdown",
     "metadata": {},
     "source": [
      "So here is what the the data looks like "
     ]
    },
    {
     "cell_type": "code",
     "collapsed": false,
     "input": [
      "from json import loads\n",
      "doc = loads(geojson)\n",
      "doc['features'][0]"
     ],
     "language": "python",
     "metadata": {},
     "outputs": [
      {
       "metadata": {},
       "output_type": "pyout",
       "prompt_number": 226,
       "text": [
        "{u'geometry': {u'coordinates': [-122.8116684, 38.8326683, 2.47],\n",
        "  u'type': u'Point'},\n",
        " u'id': u'nc72379036',\n",
        " u'properties': {u'alert': None,\n",
        "  u'cdi': None,\n",
        "  u'code': u'72379036',\n",
        "  u'detail': u'http://earthquake.usgs.gov/earthquakes/feed/v1.0/detail/nc72379036.geojson',\n",
        "  u'dmin': 0.009343,\n",
        "  u'felt': None,\n",
        "  u'gap': 89,\n",
        "  u'ids': u',nc72379036,',\n",
        "  u'mag': 0.54,\n",
        "  u'magType': u'md',\n",
        "  u'mmi': None,\n",
        "  u'net': u'nc',\n",
        "  u'nst': 15,\n",
        "  u'place': u'7km W of Cobb, California',\n",
        "  u'rms': 0.02,\n",
        "  u'sig': 4,\n",
        "  u'sources': u',nc,',\n",
        "  u'status': u'automatic',\n",
        "  u'time': 1420951358820,\n",
        "  u'title': u'M 0.5 - 7km W of Cobb, California',\n",
        "  u'tsunami': None,\n",
        "  u'type': u'earthquake',\n",
        "  u'types': u',general-link,geoserve,nearby-cities,origin,phase-data,scitech-link,',\n",
        "  u'tz': -480,\n",
        "  u'updated': 1420952104989,\n",
        "  u'url': u'http://earthquake.usgs.gov/earthquakes/eventpage/nc72379036'},\n",
        " u'type': u'Feature'}"
       ]
      }
     ],
     "prompt_number": 226
    },
    {
     "cell_type": "markdown",
     "metadata": {},
     "source": [
      "Let's find the closest one to Interana. A quick search yields their adress. 68 Willow Rd Menlo Park, CA 94025, or (37.452241, -122.167082). Let's make a filter"
     ]
    },
    {
     "cell_type": "code",
     "collapsed": false,
     "input": [
      "from geopy.distance import VincentyDistance as vd\n",
      "from geopy.point import Point\n",
      "\n",
      "# Headbanging is ellisped, it seems like the USGS uses\n",
      "# (longitude,latitude) while everyone else uses (lat,long)  pairs\n",
      "# interana = Point(37.452241, -122.167082)\n",
      "interana = Point(-122.167082, 37.452241)\n",
      "\n",
      "max_dist = 100\n",
      "def distance_filter(event):\n",
      "    return vd(interana, event.point()).miles < max_dist"
     ],
     "language": "python",
     "metadata": {},
     "outputs": [],
     "prompt_number": 227
    },
    {
     "cell_type": "markdown",
     "metadata": {},
     "source": [
      "And a class to hold the data objects and add methods to them in a nice OO way"
     ]
    },
    {
     "cell_type": "code",
     "collapsed": false,
     "input": [
      "from time import time\n",
      "from pprint import pformat\n",
      "\n",
      "now = time() # in seconds since 1/1/1970\n",
      "seconds_in_day = 60*60*24\n",
      "\n",
      "class Event(object):\n",
      "    def __init__(self, data):\n",
      "        self.__dict__ = data\n",
      "\n",
      "    def __repr__(self):\n",
      "        return pformat(self.__dict__)\n",
      "        \n",
      "    def days_ago(self):\n",
      "        return (now - float(self.properties['time'])/1000) / seconds_in_day\n",
      "\n",
      "    def point(self):\n",
      "        return Point(self.geometry['coordinates'])\n",
      "    \n",
      "    def to_json(self):\n",
      "        return json.dumps(self.__dict__)"
     ],
     "language": "python",
     "metadata": {},
     "outputs": [],
     "prompt_number": 245
    },
    {
     "cell_type": "markdown",
     "metadata": {},
     "source": [
      "# And the answer is..."
     ]
    },
    {
     "cell_type": "code",
     "collapsed": false,
     "input": [
      "events = map(Event, doc['features'])\n",
      "recent = filter(lambda e: e.days_ago() <= 7, events)\n",
      "near = filter(distance_filter, recent)\n",
      "max(near, key=lambda e: float(e.properties['mag']))"
     ],
     "language": "python",
     "metadata": {},
     "outputs": [
      {
       "metadata": {},
       "output_type": "pyout",
       "prompt_number": 229,
       "text": [
        "{u'geometry': {u'coordinates': [-122.1376648, 39.3945007, 26.37],\n",
        "               u'type': u'Point'},\n",
        " u'id': u'nc72378716',\n",
        " u'properties': {u'alert': None,\n",
        "                 u'cdi': 2.2,\n",
        "                 u'code': u'72378716',\n",
        "                 u'detail': u'http://earthquake.usgs.gov/earthquakes/feed/v1.0/detail/nc72378716.geojson',\n",
        "                 u'dmin': 0.1354,\n",
        "                 u'felt': 6,\n",
        "                 u'gap': 39,\n",
        "                 u'ids': u',nc72378716,',\n",
        "                 u'mag': 3,\n",
        "                 u'magType': u'md',\n",
        "                 u'mmi': None,\n",
        "                 u'net': u'nc',\n",
        "                 u'nst': 41,\n",
        "                 u'place': u'13km NNE of Maxwell, California',\n",
        "                 u'rms': 0.33,\n",
        "                 u'sig': 140,\n",
        "                 u'sources': u',nc,',\n",
        "                 u'status': u'automatic',\n",
        "                 u'time': 1420897506930,\n",
        "                 u'title': u'M 3.0 - 13km NNE of Maxwell, California',\n",
        "                 u'tsunami': None,\n",
        "                 u'type': u'earthquake',\n",
        "                 u'types': u',dyfi,focal-mechanism,general-link,geoserve,nearby-cities,origin,phase-data,scitech-link,',\n",
        "                 u'tz': -480,\n",
        "                 u'updated': 1420941801726,\n",
        "                 u'url': u'http://earthquake.usgs.gov/earthquakes/eventpage/nc72378716'},\n",
        " u'type': u'Feature'}"
       ]
      }
     ],
     "prompt_number": 229
    },
    {
     "cell_type": "markdown",
     "metadata": {},
     "source": [
      "# Part 2\n",
      "> Please repeat the exercise, but focus on using UNIX command line tools. You should be using Linux and ideally python or bash scripting to locate the records. \n",
      "\n",
      "It's a good thing ipython makes it easy to use the command line with python. Let's begin with curl."
     ]
    },
    {
     "cell_type": "code",
     "collapsed": false,
     "input": [
      "!curl http://earthquake.usgs.gov/earthquakes/feed/v1.0/summary/all_month.geojson > quakes.geojson"
     ],
     "language": "python",
     "metadata": {},
     "outputs": [
      {
       "output_type": "stream",
       "stream": "stdout",
       "text": [
        "  % Total    % Received % Xferd  Average Speed   Time    Time     Time  Current\r\n",
        "                                 Dload  Upload   Total   Spent    Left  Speed\r\n",
        "\r",
        "  0     0    0     0    0     0      0      0 --:--:-- --:--:-- --:--:--     0"
       ]
      },
      {
       "output_type": "stream",
       "stream": "stdout",
       "text": [
        "\r",
        "100 87260    0 87260    0     0   103k      0 --:--:-- --:--:-- --:--:--  103k"
       ]
      },
      {
       "output_type": "stream",
       "stream": "stdout",
       "text": [
        "\r",
        "100  612k    0  612k    0     0   335k      0 --:--:--  0:00:01 --:--:--  335k"
       ]
      },
      {
       "output_type": "stream",
       "stream": "stdout",
       "text": [
        "\r",
        "100 1255k    0 1255k    0     0   444k      0 --:--:--  0:00:02 --:--:--  444k"
       ]
      },
      {
       "output_type": "stream",
       "stream": "stdout",
       "text": [
        "\r",
        "100 1895k    0 1895k    0     0   495k      0 --:--:--  0:00:03 --:--:--  495k"
       ]
      },
      {
       "output_type": "stream",
       "stream": "stdout",
       "text": [
        "\r",
        "100 2628k    0 2628k    0     0   545k      0 --:--:--  0:00:04 --:--:--  545k"
       ]
      },
      {
       "output_type": "stream",
       "stream": "stdout",
       "text": [
        "\r",
        "100 3329k    0 3329k    0     0   571k      0 --:--:--  0:00:05 --:--:--  648k"
       ]
      },
      {
       "output_type": "stream",
       "stream": "stdout",
       "text": [
        "\r",
        "100 4132k    0 4132k    0     0   605k      0 --:--:--  0:00:06 --:--:--  704k"
       ]
      },
      {
       "output_type": "stream",
       "stream": "stdout",
       "text": [
        "\r",
        "100 4941k    0 4941k    0     0   631k      0 --:--:--  0:00:07 --:--:--  737k"
       ]
      },
      {
       "output_type": "stream",
       "stream": "stdout",
       "text": [
        "\r",
        "100 5666k    0 5666k    0     0   650k      0 --:--:--  0:00:08 --:--:--  772k\r\n"
       ]
      }
     ],
     "prompt_number": 236
    },
    {
     "cell_type": "markdown",
     "metadata": {},
     "source": [
      "we can use this tool to navigate json http://trentm.com/json and search it"
     ]
    },
    {
     "cell_type": "code",
     "collapsed": false,
     "input": [
      "!cat quakes.geojson | json features | head -n 10"
     ],
     "language": "python",
     "metadata": {},
     "outputs": [
      {
       "output_type": "stream",
       "stream": "stdout",
       "text": [
        "[\r\n",
        "  {\r\n",
        "    \"type\": \"Feature\",\r\n",
        "    \"properties\": {\r\n",
        "      \"mag\": 0.54,\r\n",
        "      \"place\": \"7km W of Cobb, California\",\r\n",
        "      \"time\": 1420951358820,\r\n",
        "      \"updated\": 1420952104989,\r\n",
        "      \"tz\": -480,\r\n",
        "      \"url\": \"http://earthquake.usgs.gov/earthquakes/eventpage/nc72379036\",\r\n"
       ]
      }
     ],
     "prompt_number": 231
    },
    {
     "cell_type": "code",
     "collapsed": false,
     "input": [
      "seven_days_ago = now - 60*60*24*7*1000 # in ms\n",
      "!cat quakes.geojson | json features | json -c 'this.properties.time >= $seven_days_ago' | head -n 10"
     ],
     "language": "python",
     "metadata": {},
     "outputs": [
      {
       "output_type": "stream",
       "stream": "stdout",
       "text": [
        "[\r\n",
        "  {\r\n",
        "    \"type\": \"Feature\",\r\n",
        "    \"properties\": {\r\n",
        "      \"mag\": 0.54,\r\n",
        "      \"place\": \"7km W of Cobb, California\",\r\n",
        "      \"time\": 1420951358820,\r\n",
        "      \"updated\": 1420952104989,\r\n",
        "      \"tz\": -480,\r\n",
        "      \"url\": \"http://earthquake.usgs.gov/earthquakes/eventpage/nc72379036\",\r\n"
       ]
      }
     ],
     "prompt_number": 232
    },
    {
     "cell_type": "markdown",
     "metadata": {},
     "source": [
      "This is as far as the command line can take us. Let's drop back into pure python"
     ]
    },
    {
     "cell_type": "code",
     "collapsed": false,
     "input": [
      "recent_events = !cat quakes.geojson | json features | json -c 'this.properties.time >= $seven_days_ago'"
     ],
     "language": "python",
     "metadata": {},
     "outputs": [],
     "prompt_number": 233
    },
    {
     "cell_type": "code",
     "collapsed": false,
     "input": [
      "winner=max(filter(distance_filter, map(Event, loads(\"\".join(recent_events.list)))),\n",
      "    key=lambda e: float(e.properties['mag']))\n",
      "geojsonio.embed(winner.to_json())"
     ],
     "language": "python",
     "metadata": {},
     "outputs": [
      {
       "html": [
        "<iframe src=http://geojson.io/#data=data:application/json,%7B%22geometry%22%3A%20%7B%22type%22%3A%20%22Point%22%2C%20%22coordinates%22%3A%20%5B-122.1376648%2C%2039.3945007%2C%2026.37%5D%7D%2C%20%22type%22%3A%20%22Feature%22%2C%20%22properties%22%3A%20%7B%22rms%22%3A%200.33%2C%20%22code%22%3A%20%2272378716%22%2C%20%22cdi%22%3A%202.2%2C%20%22sources%22%3A%20%22%2Cnc%2C%22%2C%20%22nst%22%3A%2041%2C%20%22tz%22%3A%20-480%2C%20%22title%22%3A%20%22M%203.0%20-%2013km%20NNE%20of%20Maxwell%2C%20California%22%2C%20%22magType%22%3A%20%22md%22%2C%20%22detail%22%3A%20%22http%3A//earthquake.usgs.gov/earthquakes/feed/v1.0/detail/nc72378716.geojson%22%2C%20%22sig%22%3A%20140%2C%20%22net%22%3A%20%22nc%22%2C%20%22type%22%3A%20%22earthquake%22%2C%20%22status%22%3A%20%22automatic%22%2C%20%22updated%22%3A%201420941801726%2C%20%22felt%22%3A%206%2C%20%22alert%22%3A%20null%2C%20%22dmin%22%3A%200.1354%2C%20%22mag%22%3A%203%2C%20%22gap%22%3A%2039%2C%20%22types%22%3A%20%22%2Cdyfi%2Cfocal-mechanism%2Cgeneral-link%2Cgeoserve%2Cnearby-cities%2Corigin%2Cphase-data%2Cscitech-link%2C%22%2C%20%22url%22%3A%20%22http%3A//earthquake.usgs.gov/earthquakes/eventpage/nc72378716%22%2C%20%22ids%22%3A%20%22%2Cnc72378716%2C%22%2C%20%22tsunami%22%3A%20null%2C%20%22place%22%3A%20%2213km%20NNE%20of%20Maxwell%2C%20California%22%2C%20%22time%22%3A%201420897506930%2C%20%22mmi%22%3A%20null%7D%2C%20%22id%22%3A%20%22nc72378716%22%7D width=100% height=512></iframe>"
       ],
       "metadata": {},
       "output_type": "pyout",
       "prompt_number": 250,
       "text": [
        "<IPython.core.display.HTML at 0x7fa7ebe36410>"
       ]
      }
     ],
     "prompt_number": 250
    },
    {
     "cell_type": "markdown",
     "metadata": {},
     "source": [
      "> Once 1 and 2 are completed, discuss how you would convert the JSON data to CSV and what the best way to do that would be. Provide as much detail about the decision as possible.\n",
      "\n",
      "I would use json2csv from the cli."
     ]
    },
    {
     "cell_type": "code",
     "collapsed": false,
     "input": [],
     "language": "python",
     "metadata": {},
     "outputs": [],
     "prompt_number": 235
    },
    {
     "cell_type": "code",
     "collapsed": false,
     "input": [],
     "language": "python",
     "metadata": {},
     "outputs": [],
     "prompt_number": 235
    },
    {
     "cell_type": "code",
     "collapsed": false,
     "input": [],
     "language": "python",
     "metadata": {},
     "outputs": [],
     "prompt_number": 235
    },
    {
     "cell_type": "code",
     "collapsed": false,
     "input": [],
     "language": "python",
     "metadata": {},
     "outputs": []
    }
   ],
   "metadata": {}
  }
 ]
}