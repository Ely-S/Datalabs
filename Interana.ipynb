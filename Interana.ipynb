{
 "metadata": {
  "name": ""
 },
 "nbformat": 3,
 "nbformat_minor": 0,
 "worksheets": [
  {
   "cells": [
    {
     "cell_type": "markdown",
     "metadata": {},
     "source": [
      "This is for a job application at Interana. This little quiz acompanied the application"
     ]
    },
    {
     "cell_type": "markdown",
     "metadata": {},
     "source": [
      "Please use the data from here:\n",
      "\n",
      "http://earthquake.usgs.gov/earthquakes/feed/v1.0/summary/all_month.geojson\n",
      "\n",
      "to show us the highest magnitude earthquake within the last 7 days within 100 miles of our office.\n",
      "\n",
      "Tell us how you chose your solution.\n",
      "\n",
      "Please remember that the purpose of the task is less about the answer and more about how you got there. In the field, you'll be left to your devices to use any combination of tools you like to solve this and get the data being asked. For this part of the problem, please do it in two ways:\u00a0\n",
      "\n",
      "1) Choose any combination of technologies and tools to answer the question. Please be very detailed in your thought process, selection criteria, and any pertinent steps you take to get there. There are no wrong answers! In the field it's always about \"getting it done\".\n",
      "\n",
      "2) Please repeat the exercise, but focus on using UNIX command line tools. You should be using Linux and ideally python or bash scripting to locate the records.\u00a0\n",
      "\n",
      "Once 1 and 2 are completed, discuss how you would convert the JSON data to CSV and what the best way to do that would be. Provide as much detail about the decision as possible."
     ]
    }
   ],
   "metadata": {}
  }
 ]
}