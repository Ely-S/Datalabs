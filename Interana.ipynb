{
 "metadata": {
  "name": ""
 },
 "nbformat": 3,
 "nbformat_minor": 0,
 "worksheets": [
  {
   "cells": [
    {
     "cell_type": "markdown",
     "metadata": {},
     "source": [
      "This is for a job application at Interana. This little quiz acompanied the application and I'm documenting my thought process for the application.\n",
      "\n",
      "#The question\n"
     ]
    },
    {
     "cell_type": "markdown",
     "metadata": {},
     "source": [
      "Please use the data from here:\n",
      "\n",
      "http://earthquake.usgs.gov/earthquakes/feed/v1.0/summary/all_month.geojson\n",
      "\n",
      "to show us the highest magnitude earthquake within the last 7 days within 100 miles of our office.\n",
      "\n",
      "Tell us how you chose your solution.\n",
      "\n",
      "Please remember that the purpose of the task is less about the answer and more about how you got there. In the field, you'll be left to your devices to use any combination of tools you like to solve this and get the data being asked. For this part of the problem, please do it in two ways:\u00a0\n",
      "\n",
      "1) Choose any combination of technologies and tools to answer the question. Please be very detailed in your thought process, selection criteria, and any pertinent steps you take to get there. There are no wrong answers! In the field it's always about \"getting it done\".\n",
      "\n",
      "2) Please repeat the exercise, but focus on using UNIX command line tools. You should be using Linux and ideally python or bash scripting to locate the records.\u00a0\n",
      "\n",
      "Once 1 and 2 are completed, discuss how you would convert the JSON data to CSV and what the best way to do that would be. Provide as much detail about the decision as possible."
     ]
    },
    {
     "cell_type": "markdown",
     "metadata": {},
     "source": [
      "# The Process"
     ]
    },
    {
     "cell_type": "code",
     "collapsed": false,
     "input": [
      "#Lets load the data\n",
      "import requests\n",
      "geojson = requests.get(\"http://earthquake.usgs.gov/earthquakes/feed/v1.0/summary/all_month.geojson\").content"
     ],
     "language": "python",
     "metadata": {},
     "outputs": [],
     "prompt_number": 1
    },
    {
     "cell_type": "markdown",
     "metadata": {},
     "source": [
      "hm.. looks like geojason.\n",
      "\n",
      "        pip install geojsonio"
     ]
    },
    {
     "cell_type": "code",
     "collapsed": false,
     "input": [
      "import geojsonio\n",
      "#geojsonio.embed(geojson)"
     ],
     "language": "python",
     "metadata": {},
     "outputs": [],
     "prompt_number": 2
    },
    {
     "cell_type": "markdown",
     "metadata": {},
     "source": [
      "Oh look, it seems like there is to much data to easily visualize. The above is commeneted out for crashing my browser. This is going to be fun :)"
     ]
    },
    {
     "cell_type": "markdown",
     "metadata": {},
     "source": [
      "So here is what the the data looks like "
     ]
    },
    {
     "cell_type": "code",
     "collapsed": false,
     "input": [
      "import json\n",
      "doc = json.loads(geojson)\n",
      "doc['features'][0]"
     ],
     "language": "python",
     "metadata": {},
     "outputs": [
      {
       "metadata": {},
       "output_type": "pyout",
       "prompt_number": 3,
       "text": [
        "{u'geometry': {u'coordinates': [-116.4338333, 33.4796667, 15.5],\n",
        "  u'type': u'Point'},\n",
        " u'id': u'ci37304256',\n",
        " u'properties': {u'alert': None,\n",
        "  u'cdi': None,\n",
        "  u'code': u'37304256',\n",
        "  u'detail': u'http://earthquake.usgs.gov/earthquakes/feed/v1.0/detail/ci37304256.geojson',\n",
        "  u'dmin': None,\n",
        "  u'felt': None,\n",
        "  u'gap': 88,\n",
        "  u'ids': u',ci37304256,',\n",
        "  u'mag': 1.1,\n",
        "  u'magType': u'ml',\n",
        "  u'mmi': None,\n",
        "  u'net': u'ci',\n",
        "  u'nst': 32,\n",
        "  u'place': u'23km SSW of La Quinta, California',\n",
        "  u'rms': 0.19,\n",
        "  u'sig': 19,\n",
        "  u'sources': u',ci,',\n",
        "  u'status': u'automatic',\n",
        "  u'time': 1420933236950,\n",
        "  u'title': u'M 1.1 - 23km SSW of La Quinta, California',\n",
        "  u'tsunami': None,\n",
        "  u'type': u'earthquake',\n",
        "  u'types': u',general-link,geoserve,nearby-cities,origin,phase-data,scitech-link,',\n",
        "  u'tz': -480,\n",
        "  u'updated': 1420933467750,\n",
        "  u'url': u'http://earthquake.usgs.gov/earthquakes/eventpage/ci37304256'},\n",
        " u'type': u'Feature'}"
       ]
      }
     ],
     "prompt_number": 3
    },
    {
     "cell_type": "markdown",
     "metadata": {},
     "source": [
      "Let's find the closest one to Interana. A quick search yields their adress. 68 Willow Rd Menlo Park, CA 94025, or (37.452241, -122.167082). Let's make a filter"
     ]
    },
    {
     "cell_type": "code",
     "collapsed": false,
     "input": [
      "from geopy.distance import VincentyDistance as vd\n",
      "from geopy.point import Point\n",
      "\n",
      "# Headbanging is ellisped, it seems like the USGS uses\n",
      "# (longitude,latitude) while everyone else uses (lat,long)  pairs\n",
      "# interana = Point(37.452241, -122.167082)\n",
      "interana = Point(-122.167082, 37.452241)\n",
      "\n",
      "max_dist = 100\n",
      "def distance_filter(event):\n",
      "    return vd(interana, event.point()).miles < max_dist"
     ],
     "language": "python",
     "metadata": {},
     "outputs": [],
     "prompt_number": 24
    },
    {
     "cell_type": "markdown",
     "metadata": {},
     "source": [
      "And a class to hold the data objects and add methods to it"
     ]
    },
    {
     "cell_type": "code",
     "collapsed": false,
     "input": [
      "from time import time\n",
      "from pprint import pformat\n",
      "now = time() # in seconds since 1/1/1970\n",
      "seconds_in_day = 60*60*24\n",
      "\n",
      "class Event(object):\n",
      "    def __init__(self, data):\n",
      "        self.__dict__ = data\n",
      "\n",
      "    def __repr__(self):\n",
      "        return pformat(self.__dict__)\n",
      "        \n",
      "    def days_ago(self):\n",
      "        return (now - float(self.properties['time']/1000)) / seconds_in_day\n",
      "\n",
      "    def point(self):\n",
      "        return Point(self.geometry['coordinates'])"
     ],
     "language": "python",
     "metadata": {},
     "outputs": [],
     "prompt_number": 25
    },
    {
     "cell_type": "markdown",
     "metadata": {},
     "source": [
      "# And the answer is..."
     ]
    },
    {
     "cell_type": "code",
     "collapsed": false,
     "input": [
      "events = map(Event, doc['features'])\n",
      "recent = filter(lambda e: e.days_ago() < 7, events)\n",
      "near = filter(distance_filter, recent)\n",
      "max(near, key=lambda e: e.properties['mag'])"
     ],
     "language": "python",
     "metadata": {},
     "outputs": [
      {
       "metadata": {},
       "output_type": "pyout",
       "prompt_number": 26,
       "text": [
        "{u'geometry': {u'coordinates': [-122.1376648, 39.3945007, 26.37],\n",
        "               u'type': u'Point'},\n",
        " u'id': u'nc72378716',\n",
        " u'properties': {u'alert': None,\n",
        "                 u'cdi': 2.2,\n",
        "                 u'code': u'72378716',\n",
        "                 u'detail': u'http://earthquake.usgs.gov/earthquakes/feed/v1.0/detail/nc72378716.geojson',\n",
        "                 u'dmin': 0.1354,\n",
        "                 u'felt': 5,\n",
        "                 u'gap': 39,\n",
        "                 u'ids': u',nc72378716,',\n",
        "                 u'mag': 3,\n",
        "                 u'magType': u'md',\n",
        "                 u'mmi': None,\n",
        "                 u'net': u'nc',\n",
        "                 u'nst': 41,\n",
        "                 u'place': u'13km NNE of Maxwell, California',\n",
        "                 u'rms': 0.33,\n",
        "                 u'sig': 140,\n",
        "                 u'sources': u',nc,',\n",
        "                 u'status': u'automatic',\n",
        "                 u'time': 1420897506930,\n",
        "                 u'title': u'M 3.0 - 13km NNE of Maxwell, California',\n",
        "                 u'tsunami': None,\n",
        "                 u'type': u'earthquake',\n",
        "                 u'types': u',dyfi,focal-mechanism,general-link,geoserve,nearby-cities,origin,phase-data,scitech-link,',\n",
        "                 u'tz': -480,\n",
        "                 u'updated': 1420931743786,\n",
        "                 u'url': u'http://earthquake.usgs.gov/earthquakes/eventpage/nc72378716'},\n",
        " u'type': u'Feature'}"
       ]
      }
     ],
     "prompt_number": 26
    },
    {
     "cell_type": "markdown",
     "metadata": {},
     "source": [
      "# Part 2\n",
      "> Please repeat the exercise, but focus on using UNIX command line tools. You should be using Linux and ideally python or bash scripting to locate the records. \n",
      "\n",
      "It's a good thing ipython makes it easy to use the command line with python. Let's begin with curl."
     ]
    },
    {
     "cell_type": "code",
     "collapsed": false,
     "input": [
      "curl http://earthquake.usgs.gov/earthquakes/feed/v1.0/summary/all_month.geojson > "
     ],
     "language": "python",
     "metadata": {},
     "outputs": [],
     "prompt_number": 31
    },
    {
     "cell_type": "markdown",
     "metadata": {},
     "source": [
      "we can use to manipulate json http://trentm.com/json"
     ]
    },
    {
     "cell_type": "code",
     "collapsed": false,
     "input": [],
     "language": "python",
     "metadata": {},
     "outputs": []
    }
   ],
   "metadata": {}
  }
 ]
}